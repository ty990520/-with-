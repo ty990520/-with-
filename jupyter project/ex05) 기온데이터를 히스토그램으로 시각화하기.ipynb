{
 "cells": [
  {
   "cell_type": "markdown",
   "metadata": {},
   "source": [
    "# 기온데이터를 히스토그램으로 시각화하기"
   ]
  },
  {
   "cell_type": "code",
   "execution_count": 10,
   "metadata": {},
   "outputs": [
    {
     "data": {
      "image/png": "[encoded data removed]",
      "text/plain": [
       "<Figure size 432x288 with 1 Axes>"
      ]
     },
     "metadata": {
      "needs_background": "light"
     },
     "output_type": "display_data"
    }
   ],
   "source": [
    "import matplotlib.pyplot as plt\n",
    "import csv\n",
    "\n",
    "f=open('seoul.csv')\n",
    "data=csv.reader(f)\n",
    "next(data)\n",
    "result=[]\n",
    "\n",
    "for row in data:\n",
    "    if row[-1]!='':\n",
    "        result.append(float(row[-1]))\n",
    "        \n",
    "plt.hist(result, bins=100, color='r')\n",
    "plt.show()"
   ]
  },
  {
   "cell_type": "markdown",
   "metadata": {},
   "source": [
    "1월과 8월의 데이터를 히스토그램으로 시각화"
   ]
  },
  {
   "cell_type": "code",
   "execution_count": 9,
   "metadata": {},
   "outputs": [
    {
     "data": {
      "image/png": "[encoded data removed]",
      "text/plain": [
       "<Figure size 432x288 with 1 Axes>"
      ]
     },
     "metadata": {
      "needs_background": "light"
     },
     "output_type": "display_data"
    }
   ],
   "source": [
    "import matplotlib.pyplot as plt\n",
    "import csv\n",
    "\n",
    "f=open('seoul.csv')\n",
    "data=csv.reader(f)\n",
    "next(data)\n",
    "\n",
    "aug=[]\n",
    "jan=[]\n",
    "\n",
    "for row in data:\n",
    "    month=row[0].split('-')[1]\n",
    "    if row[-1]!='':\n",
    "        if month=='08':\n",
    "            aug.append(float(row[-1]))\n",
    "        if month=='01':\n",
    "            jan.append(float(row[-1]))\n",
    "            \n",
    "plt.hist(aug, bins=100, color='r', label='Aug')\n",
    "plt.hist(jan, bins=100, color='b', label='Jan')\n",
    "plt.legend()\n",
    "plt.show()"
   ]
  }
 ],
 "metadata": {
  "kernelspec": {
   "display_name": "Python 3",
   "language": "python",
   "name": "python3"
  },
  "language_info": {
   "codemirror_mode": {
    "name": "ipython",
    "version": 3
   },
   "file_extension": ".py",
   "mimetype": "text/x-python",
   "name": "python",
   "nbconvert_exporter": "python",
   "pygments_lexer": "ipython3",
   "version": "3.8.3"
  }
 },
 "nbformat": 4,
 "nbformat_minor": 4
}
